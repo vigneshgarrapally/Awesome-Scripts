{
 "cells": [
  {
   "cell_type": "code",
   "execution_count": 1,
   "metadata": {},
   "outputs": [],
   "source": [
    "#OpenCV is an Computer vision library that is available in C++,java and python. \n",
    "#primarily focusses on media files like image and video\n",
    "#this is a deep learning Application\n",
    "#https://github.com/jasmcaus/opencv-course"
   ]
  },
  {
   "cell_type": "code",
   "execution_count": 13,
   "metadata": {},
   "outputs": [
    {
     "name": "stdout",
     "output_type": "stream",
     "text": [
      "Collecting caer\n",
      "  Using cached caer-1.9.8-py3-none-any.whl (838 kB)\n",
      "Requirement already satisfied: mypy in c:\\users\\vignesh\\appdata\\local\\programs\\python\\python38\\lib\\site-packages (from caer) (0.812)\n",
      "Requirement already satisfied: opencv-contrib-python in c:\\users\\vignesh\\appdata\\local\\programs\\python\\python38\\lib\\site-packages (from caer) (4.5.1.48)\n",
      "Requirement already satisfied: numpy in c:\\users\\vignesh\\appdata\\local\\programs\\python\\python38\\lib\\site-packages (from caer) (1.19.1)\n",
      "Requirement already satisfied: typing-extensions in c:\\users\\vignesh\\appdata\\local\\programs\\python\\python38\\lib\\site-packages (from caer) (3.7.4.3)\n",
      "Requirement already satisfied: mypy-extensions<0.5.0,>=0.4.3 in c:\\users\\vignesh\\appdata\\local\\programs\\python\\python38\\lib\\site-packages (from mypy->caer) (0.4.3)\n",
      "Requirement already satisfied: typed-ast<1.5.0,>=1.4.0 in c:\\users\\vignesh\\appdata\\local\\programs\\python\\python38\\lib\\site-packages (from mypy->caer) (1.4.2)\n",
      "Installing collected packages: caer\n",
      "Successfully installed caer-1.9.8\n"
     ]
    }
   ],
   "source": [
    "!pip install caer\n",
    "#https://github.com/jasmcaus/caer\n",
    "#above is the package built by author to simplify openCV"
   ]
  },
  {
   "cell_type": "code",
   "execution_count": 1,
   "metadata": {},
   "outputs": [],
   "source": [
    "#Installing OpenCV\n",
    "\"\"\"\n",
    "There are four options for installation of OpenCV. Only one of them can be installed to avoid conflicts\n",
    "Option 1 - Main modules package: pip install opencv-python\n",
    "Option 2 - Full package (contains both main modules and contrib/extra modules): pip install opencv-contrib-python \n",
    "           (check contrib/extra modules listing from OpenCV documentation)\n",
    "Option 3 - Headless main modules package: pip install opencv-python-headless\n",
    "Option 4 - Headless full package (contains both main modules and contrib/extra modules): pip install opencv-contrib-python-headless\n",
    "3&4 are for server environments\n",
    "\"\"\"\n",
    "import cv2 as cv\n"
   ]
  },
  {
   "cell_type": "code",
   "execution_count": 4,
   "metadata": {},
   "outputs": [],
   "source": [
    "#Reading Images\n",
    "import cv2 as cv\n",
    "cap= cv.imread('I&O/cat.jpeg')\n",
    "#takes one argument that is path to image.\n",
    "#returns a matrix\n",
    "cv.imshow('cat',cap)\n",
    "#takes two args- first one is window name and second one is the matrix\n",
    "cv.waitKey(10000)\n",
    "cv.destroyAllWindows()\n",
    "#This will display the window infinitely until any keypress"
   ]
  },
  {
   "cell_type": "code",
   "execution_count": 5,
   "metadata": {},
   "outputs": [
    {
     "ename": "error",
     "evalue": "OpenCV(4.5.1) C:\\Users\\appveyor\\AppData\\Local\\Temp\\1\\pip-req-build-i1s8y2i1\\opencv\\modules\\highgui\\src\\window.cpp:376: error: (-215:Assertion failed) size.width>0 && size.height>0 in function 'cv::imshow'\n",
     "output_type": "error",
     "traceback": [
      "\u001b[1;31m---------------------------------------------------------------------------\u001b[0m",
      "\u001b[1;31merror\u001b[0m                                     Traceback (most recent call last)",
      "\u001b[1;32m<ipython-input-5-cf8dba0d4b7c>\u001b[0m in \u001b[0;36m<module>\u001b[1;34m\u001b[0m\n\u001b[0;32m      4\u001b[0m \u001b[1;32mwhile\u001b[0m \u001b[1;32mTrue\u001b[0m\u001b[1;33m:\u001b[0m\u001b[1;33m\u001b[0m\u001b[1;33m\u001b[0m\u001b[0m\n\u001b[0;32m      5\u001b[0m     \u001b[0mret\u001b[0m\u001b[1;33m,\u001b[0m\u001b[0mframe\u001b[0m\u001b[1;33m=\u001b[0m\u001b[0mcapture\u001b[0m\u001b[1;33m.\u001b[0m\u001b[0mread\u001b[0m\u001b[1;33m(\u001b[0m\u001b[1;33m)\u001b[0m\u001b[1;33m\u001b[0m\u001b[1;33m\u001b[0m\u001b[0m\n\u001b[1;32m----> 6\u001b[1;33m     \u001b[0mcv\u001b[0m\u001b[1;33m.\u001b[0m\u001b[0mimshow\u001b[0m\u001b[1;33m(\u001b[0m\u001b[1;34m'nameofwindow'\u001b[0m\u001b[1;33m,\u001b[0m\u001b[0mframe\u001b[0m\u001b[1;33m)\u001b[0m\u001b[1;33m\u001b[0m\u001b[1;33m\u001b[0m\u001b[0m\n\u001b[0m\u001b[0;32m      7\u001b[0m     \u001b[1;32mif\u001b[0m \u001b[0mcv\u001b[0m\u001b[1;33m.\u001b[0m\u001b[0mwaitKey\u001b[0m\u001b[1;33m(\u001b[0m\u001b[1;36m20\u001b[0m\u001b[1;33m)\u001b[0m \u001b[1;33m&\u001b[0m \u001b[1;36m0xFF\u001b[0m \u001b[1;33m==\u001b[0m \u001b[0mord\u001b[0m\u001b[1;33m(\u001b[0m\u001b[1;34m'd'\u001b[0m\u001b[1;33m)\u001b[0m\u001b[1;33m:\u001b[0m\u001b[1;33m\u001b[0m\u001b[1;33m\u001b[0m\u001b[0m\n\u001b[0;32m      8\u001b[0m         \u001b[1;32mbreak\u001b[0m\u001b[1;33m\u001b[0m\u001b[1;33m\u001b[0m\u001b[0m\n",
      "\u001b[1;31merror\u001b[0m: OpenCV(4.5.1) C:\\Users\\appveyor\\AppData\\Local\\Temp\\1\\pip-req-build-i1s8y2i1\\opencv\\modules\\highgui\\src\\window.cpp:376: error: (-215:Assertion failed) size.width>0 && size.height>0 in function 'cv::imshow'\n"
     ]
    }
   ],
   "source": [
    "#Reading Videos\n",
    "capture=cv.VideoCapture('I&O/demo.mp4')\n",
    "#takes one argument path and returns an instance of video\n",
    "while True:\n",
    "    ret,frame=capture.read()\n",
    "    cv.imshow('nameofwindow',frame)\n",
    "    if cv.waitKey(20) & 0xFF == ord('d'):\n",
    "        break\n",
    "capture.release()\n",
    "cv.destroyAllWindows()\n"
   ]
  },
  {
   "cell_type": "code",
   "execution_count": 2,
   "metadata": {},
   "outputs": [
    {
     "data": {
      "text/plain": [
       "113"
      ]
     },
     "execution_count": 2,
     "metadata": {},
     "output_type": "execute_result"
    }
   ],
   "source": [
    "ord('q')\n",
    "#returns the binary ASCII value of it."
   ]
  },
  {
   "cell_type": "code",
   "execution_count": null,
   "metadata": {},
   "outputs": [],
   "source": []
  }
 ],
 "metadata": {
  "kernelspec": {
   "display_name": "Python 3",
   "language": "python",
   "name": "python3"
  },
  "language_info": {
   "codemirror_mode": {
    "name": "ipython",
    "version": 3
   },
   "file_extension": ".py",
   "mimetype": "text/x-python",
   "name": "python",
   "nbconvert_exporter": "python",
   "pygments_lexer": "ipython3",
   "version": "3.8.2"
  }
 },
 "nbformat": 4,
 "nbformat_minor": 4
}
