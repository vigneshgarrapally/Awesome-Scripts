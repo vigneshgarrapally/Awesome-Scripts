{
 "cells": [
  {
   "cell_type": "code",
   "execution_count": 1,
   "metadata": {},
   "outputs": [],
   "source": [
    "#import module\n",
    "import os"
   ]
  },
  {
   "cell_type": "code",
   "execution_count": 2,
   "metadata": {},
   "outputs": [
    {
     "data": {
      "text/plain": [
       "'E:\\\\AI using python\\\\Python programs'"
      ]
     },
     "execution_count": 2,
     "metadata": {},
     "output_type": "execute_result"
    }
   ],
   "source": [
    "#Get the current working directory\n",
    "os.getcwd()"
   ]
  },
  {
   "cell_type": "code",
   "execution_count": 3,
   "metadata": {},
   "outputs": [
    {
     "data": {
      "text/plain": [
       "['.ipynb_checkpoints',\n",
       " 'extract_frames_from_video.py',\n",
       " 'I&O',\n",
       " 'internet speed.py',\n",
       " 'Numpy module.ipynb',\n",
       " 'OS module.ipynb',\n",
       " 'spleeter.ipynb']"
      ]
     },
     "execution_count": 3,
     "metadata": {},
     "output_type": "execute_result"
    }
   ],
   "source": [
    "#List the items in CWD\n",
    "os.listdir()"
   ]
  },
  {
   "cell_type": "code",
   "execution_count": 4,
   "metadata": {},
   "outputs": [],
   "source": [
    "#change CWD\n",
    "os.chdir('I&O')"
   ]
  },
  {
   "cell_type": "code",
   "execution_count": 5,
   "metadata": {},
   "outputs": [
    {
     "data": {
      "text/plain": [
       "'E:\\\\AI using python\\\\Python programs\\\\I&O'"
      ]
     },
     "execution_count": 5,
     "metadata": {},
     "output_type": "execute_result"
    }
   ],
   "source": [
    "os.getcwd()"
   ]
  },
  {
   "cell_type": "code",
   "execution_count": 3,
   "metadata": {},
   "outputs": [
    {
     "data": {
      "text/plain": [
       "True"
      ]
     },
     "execution_count": 3,
     "metadata": {},
     "output_type": "execute_result"
    }
   ],
   "source": [
    "#check is a file\n",
    "path=\"E:\\AI using python\\Python programs\\OpenCV\\demo.mp4\"\n",
    "os.path.isfile(path)"
   ]
  },
  {
   "cell_type": "code",
   "execution_count": 4,
   "metadata": {},
   "outputs": [
    {
     "data": {
      "text/plain": [
       "False"
      ]
     },
     "execution_count": 4,
     "metadata": {},
     "output_type": "execute_result"
    }
   ],
   "source": [
    "#similarly ypu can check is directory or not\n",
    "os.path.isdir(path)"
   ]
  },
  {
   "cell_type": "code",
   "execution_count": 9,
   "metadata": {},
   "outputs": [
    {
     "name": "stdout",
     "output_type": "stream",
     "text": [
      "E:\\AI using python\\Python programs\n",
      "['.ipynb_checkpoints', 'files', 'Matplotlib', 'Numpy', 'OpenCV']\n",
      "['check_file_type.py', 'extract_frames_from_video.py', 'find_course_duration.py', 'find_course_duration_new.py', 'htmltopdf.py', 'internet speed.py', 'OS module.ipynb', 'pdfmerge.py', 'spleeter.ipynb']\n",
      "***************************\n",
      "E:\\AI using python\\Python programs\\.ipynb_checkpoints\n",
      "[]\n",
      "['Numpy module-checkpoint.ipynb', 'OpenCV-checkpoint.ipynb', 'OS module-checkpoint.ipynb']\n",
      "***************************\n",
      "E:\\AI using python\\Python programs\\files\n",
      "[]\n",
      "[]\n",
      "***************************\n",
      "E:\\AI using python\\Python programs\\Matplotlib\n",
      "[]\n",
      "[]\n",
      "***************************\n",
      "E:\\AI using python\\Python programs\\Numpy\n",
      "['.ipynb_checkpoints', 'Author', 'Why Numpy is faster']\n",
      "['data.txt', 'NumPy - Data Types - Tutorialspoint.pdf', 'Numpy module.ipynb', 'Screenshot (675).png']\n",
      "***************************\n",
      "E:\\AI using python\\Python programs\\Numpy\\.ipynb_checkpoints\n",
      "[]\n",
      "['Numpy module-checkpoint.ipynb']\n",
      "***************************\n",
      "E:\\AI using python\\Python programs\\Numpy\\Author\n",
      "['NumPy-master']\n",
      "['Python NumPy Tutorial for Beginners.mp4']\n",
      "***************************\n",
      "E:\\AI using python\\Python programs\\Numpy\\Author\\NumPy-master\n",
      "[]\n",
      "['data.txt', 'NumPy Tutorial.ipynb', 'README.md']\n",
      "***************************\n",
      "E:\\AI using python\\Python programs\\Numpy\\Why Numpy is faster\n",
      "[]\n",
      "['Screenshot (671).png', 'Screenshot (672).png', 'Screenshot (673).png', 'Screenshot (674).png']\n",
      "***************************\n",
      "E:\\AI using python\\Python programs\\OpenCV\n",
      "['.ipynb_checkpoints']\n",
      "['cat.jpeg', 'demo.mp4', 'OpenCV.ipynb']\n",
      "***************************\n",
      "E:\\AI using python\\Python programs\\OpenCV\\.ipynb_checkpoints\n",
      "[]\n",
      "[]\n",
      "***************************\n"
     ]
    }
   ],
   "source": [
    "#traverse all directories recursively\n",
    "path=\"E:\\AI using python\\Python programs\"\n",
    "for root,dirs,files in os.walk(path):\n",
    "    print(root)#print root directory\n",
    "    print(dirs)#prints all directories in root directory\n",
    "    print(files)#prints all files\n",
    "    print(\"***************************\")"
   ]
  },
  {
   "cell_type": "code",
   "execution_count": null,
   "metadata": {},
   "outputs": [],
   "source": []
  }
 ],
 "metadata": {
  "kernelspec": {
   "display_name": "Python 3",
   "language": "python",
   "name": "python3"
  },
  "language_info": {
   "codemirror_mode": {
    "name": "ipython",
    "version": 3
   },
   "file_extension": ".py",
   "mimetype": "text/x-python",
   "name": "python",
   "nbconvert_exporter": "python",
   "pygments_lexer": "ipython3",
   "version": "3.8.2"
  }
 },
 "nbformat": 4,
 "nbformat_minor": 4
}
